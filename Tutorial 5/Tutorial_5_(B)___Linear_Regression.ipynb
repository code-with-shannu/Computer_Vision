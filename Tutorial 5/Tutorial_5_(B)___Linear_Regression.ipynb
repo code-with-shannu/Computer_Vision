{
  "nbformat": 4,
  "nbformat_minor": 0,
  "metadata": {
    "colab": {
      "provenance": []
    },
    "kernelspec": {
      "name": "python3",
      "display_name": "Python 3"
    },
    "language_info": {
      "name": "python"
    }
  },
  "cells": [
    {
      "cell_type": "markdown",
      "source": [
        "## Introduction to Linear Regression\n",
        "\n",
        "In this tutorial, we'll discuss one of the foundational algorithms in machine learning: *Linear regression*. We'll create a model that predicts crop yields for apples and oranges (*target variables*) by looking at the average temperature, rainfall, and humidity (*input variables or features*) in a region. Here's the training data:\n",
        "\n",
        "![linear-regression-training-data](https://i.imgur.com/6Ujttb4.png)\n",
        "\n",
        "In a linear regression model, each target variable is estimated to be a weighted sum of the input variables, offset by some constant, known as a bias :\n",
        "\n",
        "```\n",
        "yield_apple  = w11 * temp + w12 * rainfall + w13 * humidity + b1\n",
        "yield_orange = w21 * temp + w22 * rainfall + w23 * humidity + b2\n",
        "```\n",
        "\n",
        "Visually, it means that the yield of apples is a linear or planar function of temperature, rainfall and humidity:\n",
        "\n",
        "![linear-regression-graph](https://i.imgur.com/4DJ9f8X.png)"
      ],
      "metadata": {
        "id": "C4UselM5hV01"
      }
    },
    {
      "cell_type": "markdown",
      "source": [
        "The *learning* part of linear regression is to figure out a set of weights `w11, w12,... w23, b1 & b2` using the training data, to make accurate predictions for new data. The _learned_ weights will be used to predict the yields for apples and oranges in a new region using the average temperature, rainfall, and humidity for that region.\n",
        "\n",
        "We'll _train_ our model by adjusting the weights slightly many times to make better predictions, using an optimization technique called *gradient descent*. Let's begin by importing Numpy and PyTorch."
      ],
      "metadata": {
        "id": "mKHUxYiUheGA"
      }
    },
    {
      "cell_type": "code",
      "execution_count": null,
      "metadata": {
        "id": "DHMX7x6GhQaD"
      },
      "outputs": [],
      "source": [
        "import numpy as np\n",
        "import torch"
      ]
    },
    {
      "cell_type": "markdown",
      "source": [
        "## Training data\n",
        "\n",
        "We can represent the training data using two matrices: `inputs` and `targets`, each with one row per observation, and one column per variable."
      ],
      "metadata": {
        "id": "93NpTUg2hpl7"
      }
    },
    {
      "cell_type": "code",
      "source": [
        "# Input (temp, rainfall, humidity)\n",
        "inputs = np.array([[73, 67, 43],\n",
        "                   [91, 88, 64],\n",
        "                   [87, 134, 58],\n",
        "                   [102, 43, 37],\n",
        "                   [69, 96, 70]], dtype='float32')"
      ],
      "metadata": {
        "id": "cCukYeE1hoWe"
      },
      "execution_count": null,
      "outputs": []
    },
    {
      "cell_type": "code",
      "source": [
        "# Targets (apples, oranges)\n",
        "targets = np.array([[56, 70],\n",
        "                    [81, 101],\n",
        "                    [119, 133],\n",
        "                    [22, 37],\n",
        "                    [103, 119]], dtype='float32')"
      ],
      "metadata": {
        "id": "pLy34aIHhtQl"
      },
      "execution_count": null,
      "outputs": []
    },
    {
      "cell_type": "markdown",
      "source": [
        "We've separated the input and target variables because we'll operate on them separately. Also, we've created numpy arrays, because this is typically how you would work with training data: read some CSV files as numpy arrays, do some processing, and then convert them to PyTorch tensors.\n",
        "\n",
        "Let's convert the arrays to PyTorch tensors."
      ],
      "metadata": {
        "id": "uvSBYogehw6a"
      }
    },
    {
      "cell_type": "code",
      "source": [
        "# Convert inputs and targets to tensors\n",
        "inputs = torch.from_numpy(inputs)\n",
        "targets = torch.from_numpy(targets)\n",
        "print(inputs)\n",
        "print(targets)"
      ],
      "metadata": {
        "id": "LOkXiy2WhvaT",
        "colab": {
          "base_uri": "https://localhost:8080/"
        },
        "outputId": "bc4619b7-2f3a-4375-d73f-ae445f20e47a"
      },
      "execution_count": null,
      "outputs": [
        {
          "output_type": "stream",
          "name": "stdout",
          "text": [
            "tensor([[ 73.,  67.,  43.],\n",
            "        [ 91.,  88.,  64.],\n",
            "        [ 87., 134.,  58.],\n",
            "        [102.,  43.,  37.],\n",
            "        [ 69.,  96.,  70.]])\n",
            "tensor([[ 56.,  70.],\n",
            "        [ 81., 101.],\n",
            "        [119., 133.],\n",
            "        [ 22.,  37.],\n",
            "        [103., 119.]])\n"
          ]
        }
      ]
    },
    {
      "cell_type": "markdown",
      "source": [
        "## Linear regression model from scratch\n",
        "\n",
        "The weights and biases (`w11, w12,... w23, b1 & b2`) can also be represented as matrices, initialized as random values. The first row of `w` and the first element of `b` are used to predict the first target variable, i.e., yield of apples, and similarly, the second for oranges."
      ],
      "metadata": {
        "id": "9c9Y4nKah26y"
      }
    },
    {
      "cell_type": "code",
      "source": [
        "# Weights and biases\n",
        "w = torch.randn(2, 3, requires_grad=True)\n",
        "b = torch.randn(2, requires_grad=True)\n",
        "print(w)\n",
        "print(b)"
      ],
      "metadata": {
        "id": "h2XH4uWdh1Wy",
        "colab": {
          "base_uri": "https://localhost:8080/"
        },
        "outputId": "b852a423-1be7-41cb-cfa5-f3aae3b29ae4"
      },
      "execution_count": null,
      "outputs": [
        {
          "output_type": "stream",
          "name": "stdout",
          "text": [
            "tensor([[-2.4387,  0.3423,  0.3430],\n",
            "        [ 0.0891,  0.3912,  1.1468]], requires_grad=True)\n",
            "tensor([-0.5494,  0.2847], requires_grad=True)\n"
          ]
        }
      ]
    },
    {
      "cell_type": "markdown",
      "source": [
        "`torch.randn` creates a tensor with the given shape, with elements picked randomly from a [normal distribution](https://en.wikipedia.org/wiki/Normal_distribution) with mean 0 and standard deviation 1.\n",
        "\n",
        "Our *model* is simply a function that performs a matrix multiplication of the `inputs` and the weights `w` (transposed) and adds the bias `b` (replicated for each observation).\n",
        "\n",
        "![matrix-mult](https://i.imgur.com/WGXLFvA.png)\n",
        "\n",
        "We can define the model as follows:"
      ],
      "metadata": {
        "id": "yROo6nQPh-hg"
      }
    },
    {
      "cell_type": "code",
      "source": [
        "def model(x):\n",
        "    return x @ w.t() + b"
      ],
      "metadata": {
        "id": "iplkYkxOiBXT"
      },
      "execution_count": null,
      "outputs": []
    },
    {
      "cell_type": "markdown",
      "source": [
        "`@` represents matrix multiplication in PyTorch, and the `.t` method returns the transpose of a tensor.\n",
        "\n",
        "The matrix obtained by passing the input data into the model is a set of predictions for the target variables."
      ],
      "metadata": {
        "id": "zk4_Qv97iFgI"
      }
    },
    {
      "cell_type": "code",
      "source": [
        "# Generate predictions\n",
        "preds = model(inputs)\n",
        "print(preds)"
      ],
      "metadata": {
        "id": "YNJ-sLJEiD4u",
        "colab": {
          "base_uri": "https://localhost:8080/"
        },
        "outputId": "e701c76f-1453-4445-d046-92cf42459d13"
      },
      "execution_count": null,
      "outputs": [
        {
          "output_type": "stream",
          "name": "stdout",
          "text": [
            "tensor([[-140.8917,   82.3136],\n",
            "        [-170.3968,  116.2160],\n",
            "        [-146.9540,  126.9756],\n",
            "        [-221.8884,   68.6270],\n",
            "        [-111.9481,  124.2665]], grad_fn=<AddBackward0>)\n"
          ]
        }
      ]
    },
    {
      "cell_type": "markdown",
      "source": [
        "Let's compare the predictions of our model with the actual targets."
      ],
      "metadata": {
        "id": "xUKBaeOziK5d"
      }
    },
    {
      "cell_type": "code",
      "source": [
        "# Compare with targets\n",
        "print(targets)"
      ],
      "metadata": {
        "id": "FO9J1TLtiJJe",
        "colab": {
          "base_uri": "https://localhost:8080/"
        },
        "outputId": "e89008aa-16e6-45bc-a682-d6e48ee06362"
      },
      "execution_count": null,
      "outputs": [
        {
          "output_type": "stream",
          "name": "stdout",
          "text": [
            "tensor([[ 56.,  70.],\n",
            "        [ 81., 101.],\n",
            "        [119., 133.],\n",
            "        [ 22.,  37.],\n",
            "        [103., 119.]])\n"
          ]
        }
      ]
    },
    {
      "cell_type": "markdown",
      "source": [
        "You can see a big difference between our model's predictions and the actual targets because we've initialized our model with random weights and biases. Obviously, we can't expect a randomly initialized model to *just work*."
      ],
      "metadata": {
        "id": "IDP1lJhqiP37"
      }
    },
    {
      "cell_type": "markdown",
      "source": [
        "## Loss function\n",
        "\n",
        "Before we improve our model, we need a way to evaluate how well our model is performing. We can compare the model's predictions with the actual targets using the following method:\n",
        "\n",
        "* Calculate the difference between the two matrices (`preds` and `targets`).\n",
        "* Square all elements of the difference matrix to remove negative values.\n",
        "* Calculate the average of the elements in the resulting matrix.\n",
        "\n",
        "The result is a single number, known as the **mean squared error** (MSE)."
      ],
      "metadata": {
        "id": "KPZxfpsfiUIT"
      }
    },
    {
      "cell_type": "code",
      "source": [
        "# MSE loss\n",
        "def mse(t1, t2):\n",
        "    diff = t1 - t2\n",
        "    return torch.sum(diff * diff) / diff.numel()"
      ],
      "metadata": {
        "id": "wN1fBaXRiSm7"
      },
      "execution_count": null,
      "outputs": []
    },
    {
      "cell_type": "markdown",
      "source": [
        "`torch.sum` returns the sum of all the elements in a tensor. The `.numel` method of a tensor returns the number of elements in a tensor. Let's compute the mean squared error for the current predictions of our model."
      ],
      "metadata": {
        "id": "G1RIB3eaibAb"
      }
    },
    {
      "cell_type": "code",
      "source": [
        "# Compute loss\n",
        "loss = mse(preds, targets)\n",
        "print(loss)"
      ],
      "metadata": {
        "id": "Gg2v0MKZidFw",
        "colab": {
          "base_uri": "https://localhost:8080/"
        },
        "outputId": "3a9f3ca9-106c-42c2-ba6b-222f3b26083c"
      },
      "execution_count": null,
      "outputs": [
        {
          "output_type": "stream",
          "name": "stdout",
          "text": [
            "tensor(27982.9902, grad_fn=<DivBackward0>)\n"
          ]
        }
      ]
    },
    {
      "cell_type": "markdown",
      "source": [
        "Here’s how we can interpret the result: *On average, each element in the prediction differs from the actual target by the square root of the loss*. And that’s pretty bad, considering the numbers we are trying to predict are themselves in the range 50–200. The result is called the *loss* because it indicates how bad the model is at predicting the target variables. It represents information loss in the model: the lower the loss, the better the model."
      ],
      "metadata": {
        "id": "tJciqfrFiimp"
      }
    },
    {
      "cell_type": "markdown",
      "source": [
        "## Compute gradients\n",
        "\n",
        "With PyTorch, we can automatically compute the gradient or derivative of the loss w.r.t. to the weights and biases because they have `requires_grad` set to `True`. We'll see how this is useful in just a moment."
      ],
      "metadata": {
        "id": "4d1sHVImiylS"
      }
    },
    {
      "cell_type": "code",
      "source": [
        "# Compute gradients\n",
        "loss.backward()"
      ],
      "metadata": {
        "id": "udg_ATNgiyYi"
      },
      "execution_count": null,
      "outputs": []
    },
    {
      "cell_type": "markdown",
      "source": [
        "The gradients are stored in the `.grad` property of the respective tensors. Note that the derivative of the loss w.r.t. the weights matrix is itself a matrix with the same dimensions."
      ],
      "metadata": {
        "id": "AnjVrfUji3XA"
      }
    },
    {
      "cell_type": "code",
      "source": [
        "# Gradients for weights\n",
        "print(w)\n",
        "print(w.grad)"
      ],
      "metadata": {
        "id": "BKLoLbv7i15z",
        "colab": {
          "base_uri": "https://localhost:8080/"
        },
        "outputId": "07b9eb1a-036a-4d45-959b-2f46cd2babde"
      },
      "execution_count": null,
      "outputs": [
        {
          "output_type": "stream",
          "name": "stdout",
          "text": [
            "tensor([[-2.4387,  0.3423,  0.3430],\n",
            "        [ 0.0891,  0.3912,  1.1468]], requires_grad=True)\n",
            "tensor([[-20019.2480, -20414.9414, -12810.2617],\n",
            "        [  1069.7545,    644.4594,    538.5500]])\n"
          ]
        }
      ]
    },
    {
      "cell_type": "markdown",
      "source": [
        "We can subtract from each weight element a small quantity proportional to the derivative of the loss w.r.t. that element to reduce the loss slightly. (*Covered in the first half of the tutorial*)."
      ],
      "metadata": {
        "id": "jhstVGhbjATr"
      }
    },
    {
      "cell_type": "code",
      "source": [
        "with torch.no_grad():\n",
        "    w -= w.grad * 1e-5\n",
        "    b -= b.grad * 1e-5"
      ],
      "metadata": {
        "id": "4jXizEeyjKZw"
      },
      "execution_count": null,
      "outputs": []
    },
    {
      "cell_type": "markdown",
      "source": [
        "We multiply the gradients with a very small number (`10^-5` in this case) to ensure that we don't modify the weights by a very large amount. We want to take a small step in the downhill direction of the gradient, not a giant leap. This number is called the *learning rate* of the algorithm.\n",
        "\n",
        "We use `torch.no_grad` to indicate to PyTorch that we shouldn't track, calculate, or modify gradients while updating the weights and biases."
      ],
      "metadata": {
        "id": "8VwGDqqmjFCi"
      }
    },
    {
      "cell_type": "code",
      "source": [
        "# Let's verify that the loss is actually lower\n",
        "loss = mse(preds, targets)\n",
        "print(loss)"
      ],
      "metadata": {
        "id": "rcwU7KvijYSD",
        "colab": {
          "base_uri": "https://localhost:8080/"
        },
        "outputId": "2ffa16fe-3c22-45a3-ec5f-a3355b2b9832"
      },
      "execution_count": null,
      "outputs": [
        {
          "output_type": "stream",
          "name": "stdout",
          "text": [
            "tensor(27982.9902, grad_fn=<DivBackward0>)\n"
          ]
        }
      ]
    },
    {
      "cell_type": "markdown",
      "source": [
        "Before we proceed, we reset the gradients to zero by invoking the `.zero_()` method. We need to do this because PyTorch accumulates gradients. Otherwise, the next time we invoke `.backward` on the loss, the new gradient values are added to the existing gradients, which may lead to unexpected results."
      ],
      "metadata": {
        "id": "8GR6IKYfjgOZ"
      }
    },
    {
      "cell_type": "code",
      "source": [
        "w.grad.zero_()\n",
        "b.grad.zero_()\n",
        "print(w.grad)\n",
        "print(b.grad)"
      ],
      "metadata": {
        "id": "fV7kgx1djf8J",
        "colab": {
          "base_uri": "https://localhost:8080/"
        },
        "outputId": "022054d1-eea9-4bbb-a0d9-91a83a51b8e8"
      },
      "execution_count": null,
      "outputs": [
        {
          "output_type": "stream",
          "name": "stdout",
          "text": [
            "tensor([[0., 0., 0.],\n",
            "        [0., 0., 0.]])\n",
            "tensor([0., 0.])\n"
          ]
        }
      ]
    },
    {
      "cell_type": "markdown",
      "source": [
        "The methods that operate in-place to modify the data of a tensor directly are suffixed with an underscore `_`. This convention is used to clearly distinguish between methods that return a new tensor with the operation applied (without modifying the original tensor) and those that modify the original tensor itself."
      ],
      "metadata": {
        "id": "bulBETuvjzFK"
      }
    },
    {
      "cell_type": "markdown",
      "source": [
        "## Train the model using gradient descent\n",
        "\n",
        "As seen above, we reduce the loss and improve our model using the gradient descent optimization algorithm. Thus, we can _train_ the model using the following steps:\n",
        "\n",
        "1. Generate predictions\n",
        "\n",
        "2. Calculate the loss\n",
        "\n",
        "3. Compute gradients w.r.t the weights and biases\n",
        "\n",
        "4. Adjust the weights by subtracting a small quantity proportional to the gradient\n",
        "\n",
        "5. Reset the gradients to zero\n",
        "\n",
        "Let's implement the above step by step."
      ],
      "metadata": {
        "id": "PBQrGc0amcEB"
      }
    },
    {
      "cell_type": "code",
      "source": [
        "# Generate predictions\n",
        "preds = model(inputs)\n",
        "print(preds)"
      ],
      "metadata": {
        "id": "9ax4pWTQj5I7",
        "colab": {
          "base_uri": "https://localhost:8080/"
        },
        "outputId": "7fceb28e-0f0b-48c3-b8fd-1c1135e63477"
      },
      "execution_count": null,
      "outputs": [
        {
          "output_type": "stream",
          "name": "stdout",
          "text": [
            "tensor([[-107.0889,   80.8692],\n",
            "        [-126.0132,  114.3306],\n",
            "        [ -94.7489,  124.8688],\n",
            "        [-187.9483,   67.0594],\n",
            "        [ -69.5669,  122.5326]], grad_fn=<AddBackward0>)\n"
          ]
        }
      ]
    },
    {
      "cell_type": "code",
      "source": [
        "# Calculate the loss\n",
        "loss = mse(preds, targets)\n",
        "print(loss)"
      ],
      "metadata": {
        "id": "8ppR5mb3msyX",
        "colab": {
          "base_uri": "https://localhost:8080/"
        },
        "outputId": "c2402fbd-2d45-4903-e0a1-a298ae1c6f48"
      },
      "execution_count": null,
      "outputs": [
        {
          "output_type": "stream",
          "name": "stdout",
          "text": [
            "tensor(19027.6660, grad_fn=<DivBackward0>)\n"
          ]
        }
      ]
    },
    {
      "cell_type": "code",
      "source": [
        "# Compute gradients\n",
        "loss.backward()\n",
        "print(w.grad)\n",
        "print(b.grad)"
      ],
      "metadata": {
        "id": "Poh_FjVamw5r",
        "colab": {
          "base_uri": "https://localhost:8080/"
        },
        "outputId": "5f8f5ba4-2aca-4c7f-c524-ecfd7e86ab33"
      },
      "execution_count": null,
      "outputs": [
        {
          "output_type": "stream",
          "name": "stdout",
          "text": [
            "tensor([[-16532.3379, -16676.1348, -10501.3750],\n",
            "        [   921.7869,    488.6880,    441.6817]])\n",
            "tensor([-193.2732,    9.9321])\n"
          ]
        }
      ]
    },
    {
      "cell_type": "markdown",
      "source": [
        "Let's update the weights and biases using the gradients computed above."
      ],
      "metadata": {
        "id": "EshOLzQImy7F"
      }
    },
    {
      "cell_type": "code",
      "source": [
        "# Adjust weights & reset gradients\n",
        "with torch.no_grad():\n",
        "    w -= w.grad * 1e-5\n",
        "    b -= b.grad * 1e-5\n",
        "    w.grad.zero_()\n",
        "    b.grad.zero_()"
      ],
      "metadata": {
        "id": "H3tQ7k6hmznn"
      },
      "execution_count": null,
      "outputs": []
    },
    {
      "cell_type": "markdown",
      "source": [
        "Let's take a look at the new weights and biases."
      ],
      "metadata": {
        "id": "A4KaN0IVm2ZM"
      }
    },
    {
      "cell_type": "code",
      "source": [
        "print(w)\n",
        "print(b)"
      ],
      "metadata": {
        "id": "6shKgHPym2Gu",
        "colab": {
          "base_uri": "https://localhost:8080/"
        },
        "outputId": "c5a4479e-2de9-4641-ec71-bdda9f2d82d4"
      },
      "execution_count": null,
      "outputs": [
        {
          "output_type": "stream",
          "name": "stdout",
          "text": [
            "tensor([[-2.0732,  0.7132,  0.5761],\n",
            "        [ 0.0692,  0.3799,  1.1370]], requires_grad=True)\n",
            "tensor([-0.5451,  0.2844], requires_grad=True)\n"
          ]
        }
      ]
    },
    {
      "cell_type": "markdown",
      "source": [
        "With the new weights and biases, the model should have a lower loss."
      ],
      "metadata": {
        "id": "uDTpKCHdm6ik"
      }
    },
    {
      "cell_type": "code",
      "source": [
        "# Calculate loss\n",
        "preds = model(inputs)\n",
        "loss = mse(preds, targets)\n",
        "print(loss)"
      ],
      "metadata": {
        "id": "nqAzzCdGm7GA",
        "colab": {
          "base_uri": "https://localhost:8080/"
        },
        "outputId": "fe98a64b-5757-4e82-9da9-129303c286a6"
      },
      "execution_count": null,
      "outputs": [
        {
          "output_type": "stream",
          "name": "stdout",
          "text": [
            "tensor(12990.6816, grad_fn=<DivBackward0>)\n"
          ]
        }
      ]
    },
    {
      "cell_type": "markdown",
      "source": [
        "We have already achieved a significant reduction in the loss merely by adjusting the weights and biases slightly using gradient descent."
      ],
      "metadata": {
        "id": "BSw71Pk1m-6Q"
      }
    },
    {
      "cell_type": "markdown",
      "source": [
        "## Train for multiple epochs\n",
        "\n",
        "To reduce the loss further, we can repeat the process of adjusting the weights and biases using the gradients multiple times. Each iteration is called an _epoch_. Let's train the model for 100 epochs."
      ],
      "metadata": {
        "id": "aSFLHqAZnIYz"
      }
    },
    {
      "cell_type": "code",
      "source": [
        "# Train for 150 epochs\n",
        "for i in range(150):\n",
        "    preds = model(inputs)\n",
        "    loss = mse(preds, targets)\n",
        "    loss.backward()\n",
        "    with torch.no_grad():\n",
        "        w -= w.grad * 1e-5\n",
        "        b -= b.grad * 1e-5\n",
        "        w.grad.zero_()\n",
        "        b.grad.zero_()"
      ],
      "metadata": {
        "id": "SJxKcdkKm_c6"
      },
      "execution_count": null,
      "outputs": []
    },
    {
      "cell_type": "markdown",
      "source": [
        "Once again, let's verify that the loss is now lower:"
      ],
      "metadata": {
        "id": "DAHUzBdwnV3Q"
      }
    },
    {
      "cell_type": "code",
      "source": [
        "# Calculate loss\n",
        "preds = model(inputs)\n",
        "loss = mse(preds, targets)\n",
        "print(loss)"
      ],
      "metadata": {
        "id": "RtEeIItfnXLI",
        "colab": {
          "base_uri": "https://localhost:8080/"
        },
        "outputId": "6188fb76-e068-4173-c1df-7415be92f7ae"
      },
      "execution_count": null,
      "outputs": [
        {
          "output_type": "stream",
          "name": "stdout",
          "text": [
            "tensor(83.9964, grad_fn=<DivBackward0>)\n"
          ]
        }
      ]
    },
    {
      "cell_type": "markdown",
      "source": [
        "The loss is now much lower than its initial value. Let's look at the model's predictions and compare them with the targets."
      ],
      "metadata": {
        "id": "ypdR8QP6nZ5X"
      }
    },
    {
      "cell_type": "code",
      "source": [
        "# Predictions\n",
        "preds"
      ],
      "metadata": {
        "id": "4hF1rOTbnYfh",
        "colab": {
          "base_uri": "https://localhost:8080/"
        },
        "outputId": "70f83557-b4fd-4361-971a-e91c24aa725d"
      },
      "execution_count": null,
      "outputs": [
        {
          "output_type": "execute_result",
          "data": {
            "text/plain": [
              "tensor([[ 53.3162,  71.7860],\n",
              "        [ 81.3571, 103.5244],\n",
              "        [126.8120, 124.0936],\n",
              "        [ -0.5943,  45.5123],\n",
              "        [112.9860, 119.2003]], grad_fn=<AddBackward0>)"
            ]
          },
          "metadata": {},
          "execution_count": 26
        }
      ]
    },
    {
      "cell_type": "code",
      "source": [
        "# Targets\n",
        "targets"
      ],
      "metadata": {
        "id": "Hju8ZDLqngtC",
        "colab": {
          "base_uri": "https://localhost:8080/"
        },
        "outputId": "a341d625-7efb-4167-fb90-9f61e8043699"
      },
      "execution_count": null,
      "outputs": [
        {
          "output_type": "execute_result",
          "data": {
            "text/plain": [
              "tensor([[ 56.,  70.],\n",
              "        [ 81., 101.],\n",
              "        [119., 133.],\n",
              "        [ 22.,  37.],\n",
              "        [103., 119.]])"
            ]
          },
          "metadata": {},
          "execution_count": 27
        }
      ]
    },
    {
      "cell_type": "markdown",
      "source": [
        "The predictions are now quite close to the target variables. We can get even better results by training for a few more epochs."
      ],
      "metadata": {
        "id": "L9Qw9mvYnjDi"
      }
    },
    {
      "cell_type": "markdown",
      "source": [
        "## Linear regression using PyTorch built-ins\n",
        "\n",
        "We've implemented linear regression & gradient descent model using some basic tensor operations. However, since this is a common pattern in deep learning, PyTorch provides several built-in functions and classes to make it easy to create and train models with just a few lines of code.\n",
        "\n",
        "Let's begin by importing the `torch.nn` package from PyTorch, which contains utility classes for building neural networks."
      ],
      "metadata": {
        "id": "1j3d4CNWnlqe"
      }
    },
    {
      "cell_type": "code",
      "source": [
        "import torch.nn as nn"
      ],
      "metadata": {
        "id": "LSIsN75DnmZF"
      },
      "execution_count": null,
      "outputs": []
    },
    {
      "cell_type": "markdown",
      "source": [
        "As before, we represent the inputs and targets and matrices."
      ],
      "metadata": {
        "id": "I6fZj1Wrnq54"
      }
    },
    {
      "cell_type": "code",
      "source": [
        "# Input (temp, rainfall, humidity)\n",
        "inputs = np.array([[73, 67, 43],\n",
        "                   [91, 88, 64],\n",
        "                   [87, 134, 58],\n",
        "                   [102, 43, 37],\n",
        "                   [69, 96, 70],\n",
        "                   [74, 66, 43],\n",
        "                   [91, 87, 65],\n",
        "                   [88, 134, 59],\n",
        "                   [101, 44, 37],\n",
        "                   [68, 96, 71],\n",
        "                   [73, 66, 44],\n",
        "                   [92, 87, 64],\n",
        "                   [87, 135, 57],\n",
        "                   [103, 43, 36],\n",
        "                   [68, 97, 70]],\n",
        "                  dtype='float32')\n",
        "\n",
        "# Targets (apples, oranges)\n",
        "targets = np.array([[56, 70],\n",
        "                    [81, 101],\n",
        "                    [119, 133],\n",
        "                    [22, 37],\n",
        "                    [103, 119],\n",
        "                    [57, 69],\n",
        "                    [80, 102],\n",
        "                    [118, 132],\n",
        "                    [21, 38],\n",
        "                    [104, 118],\n",
        "                    [57, 69],\n",
        "                    [82, 100],\n",
        "                    [118, 134],\n",
        "                    [20, 38],\n",
        "                    [102, 120]],\n",
        "                   dtype='float32')\n",
        "\n",
        "inputs = torch.from_numpy(inputs)\n",
        "targets = torch.from_numpy(targets)"
      ],
      "metadata": {
        "id": "HzszfOPFno1n"
      },
      "execution_count": null,
      "outputs": []
    },
    {
      "cell_type": "code",
      "source": [
        "inputs"
      ],
      "metadata": {
        "id": "h2eCLgq7nwpF"
      },
      "execution_count": null,
      "outputs": []
    },
    {
      "cell_type": "markdown",
      "source": [
        "We are using 15 training examples to illustrate how to work with large datasets in small batches."
      ],
      "metadata": {
        "id": "KLN1K803ny3B"
      }
    },
    {
      "cell_type": "markdown",
      "source": [
        "## Dataset and DataLoader\n",
        "\n",
        "We'll create a `TensorDataset`, which allows access to rows from `inputs` and `targets` as tuples, and provides standard APIs for working with many different types of datasets in PyTorch."
      ],
      "metadata": {
        "id": "5Vthx7Kznvbv"
      }
    },
    {
      "cell_type": "code",
      "source": [
        "from torch.utils.data import TensorDataset"
      ],
      "metadata": {
        "id": "c7bX4o7Nn3aa"
      },
      "execution_count": null,
      "outputs": []
    },
    {
      "cell_type": "code",
      "source": [
        "# Define dataset\n",
        "train_ds = TensorDataset(inputs, targets)\n",
        "train_ds[0:3]"
      ],
      "metadata": {
        "id": "fzNI2oWGn44K",
        "colab": {
          "base_uri": "https://localhost:8080/"
        },
        "outputId": "026e262d-3169-49ac-eb4d-1148796d425f"
      },
      "execution_count": null,
      "outputs": [
        {
          "output_type": "execute_result",
          "data": {
            "text/plain": [
              "(tensor([[ 73.,  67.,  43.],\n",
              "         [ 91.,  88.,  64.],\n",
              "         [ 87., 134.,  58.]]),\n",
              " tensor([[ 56.,  70.],\n",
              "         [ 81., 101.],\n",
              "         [119., 133.]]))"
            ]
          },
          "metadata": {},
          "execution_count": 31
        }
      ]
    },
    {
      "cell_type": "markdown",
      "source": [
        "The `TensorDataset` allows us to access a small section of the training data using the array indexing notation (`[0:3]` in the above code). It returns a tuple with two elements. The first element contains the input variables for the selected rows, and the second contains the targets."
      ],
      "metadata": {
        "id": "01u-ZomDn84L"
      }
    },
    {
      "cell_type": "markdown",
      "source": [
        "We'll also create a `DataLoader`, which can split the data into batches of a predefined size while training. It also provides other utilities like shuffling and random sampling of the data."
      ],
      "metadata": {
        "id": "fpsnE_Utn9Y-"
      }
    },
    {
      "cell_type": "code",
      "source": [
        "from torch.utils.data import DataLoader"
      ],
      "metadata": {
        "id": "5wI_0--aoDRg"
      },
      "execution_count": null,
      "outputs": []
    },
    {
      "cell_type": "code",
      "source": [
        "# Define data loader\n",
        "batch_size = 5\n",
        "train_dl = DataLoader(train_ds, batch_size, shuffle=True)"
      ],
      "metadata": {
        "id": "9t8lBGWGoDqz"
      },
      "execution_count": null,
      "outputs": []
    },
    {
      "cell_type": "markdown",
      "source": [
        "We can use the data loader in a `for` loop. Let's look at an example."
      ],
      "metadata": {
        "id": "SGhGh0qDoGxw"
      }
    },
    {
      "cell_type": "code",
      "source": [
        "for xb, yb in train_dl:\n",
        "    print(xb)\n",
        "    print(yb)\n",
        "    break"
      ],
      "metadata": {
        "id": "6Jv4N1egoExW",
        "colab": {
          "base_uri": "https://localhost:8080/"
        },
        "outputId": "05a9d293-cd65-43c9-9c71-079397c37dd2"
      },
      "execution_count": null,
      "outputs": [
        {
          "output_type": "stream",
          "name": "stdout",
          "text": [
            "tensor([[102.,  43.,  37.],\n",
            "        [ 68.,  96.,  71.],\n",
            "        [ 91.,  87.,  65.],\n",
            "        [ 73.,  67.,  43.],\n",
            "        [ 91.,  88.,  64.]])\n",
            "tensor([[ 22.,  37.],\n",
            "        [104., 118.],\n",
            "        [ 80., 102.],\n",
            "        [ 56.,  70.],\n",
            "        [ 81., 101.]])\n"
          ]
        }
      ]
    },
    {
      "cell_type": "markdown",
      "source": [
        "In each iteration, the data loader returns one batch of data with the given batch size. If `shuffle` is set to `True`, it shuffles the training data before creating batches. Shuffling helps randomize the input to the optimization algorithm, leading to a faster reduction in the loss."
      ],
      "metadata": {
        "id": "RDpZmxE3oLwf"
      }
    },
    {
      "cell_type": "markdown",
      "source": [
        "## nn.Linear\n",
        "\n",
        "Instead of initializing the weights & biases manually, we can define the model using the `nn.Linear` class from PyTorch, which does it automatically."
      ],
      "metadata": {
        "id": "4e3-dkwHoZux"
      }
    },
    {
      "cell_type": "code",
      "source": [
        "# Define model\n",
        "model = nn.Linear(3, 2)\n",
        "print(model.weight)\n",
        "print(model.bias)"
      ],
      "metadata": {
        "id": "Tn4CFKFsoKGx",
        "colab": {
          "base_uri": "https://localhost:8080/"
        },
        "outputId": "9fea4ece-cf1e-481e-d4c6-71e9e0a02856"
      },
      "execution_count": null,
      "outputs": [
        {
          "output_type": "stream",
          "name": "stdout",
          "text": [
            "Parameter containing:\n",
            "tensor([[ 0.2763, -0.2150, -0.4472],\n",
            "        [ 0.3018,  0.2238, -0.5651]], requires_grad=True)\n",
            "Parameter containing:\n",
            "tensor([0.4283, 0.4052], requires_grad=True)\n"
          ]
        }
      ]
    },
    {
      "cell_type": "markdown",
      "source": [
        "PyTorch models also have a helpful `.parameters` method, which returns a list containing all the weights and bias matrices present in the model. For our linear regression model, we have one weight matrix and one bias matrix."
      ],
      "metadata": {
        "id": "1FLYeSQUoeJT"
      }
    },
    {
      "cell_type": "code",
      "source": [
        "# Parameters\n",
        "list(model.parameters())"
      ],
      "metadata": {
        "id": "KXBcsH-xoer8",
        "colab": {
          "base_uri": "https://localhost:8080/"
        },
        "outputId": "c7b7361b-753d-4599-bdb8-f84405266d82"
      },
      "execution_count": null,
      "outputs": [
        {
          "output_type": "execute_result",
          "data": {
            "text/plain": [
              "[Parameter containing:\n",
              " tensor([[ 0.2763, -0.2150, -0.4472],\n",
              "         [ 0.3018,  0.2238, -0.5651]], requires_grad=True),\n",
              " Parameter containing:\n",
              " tensor([0.4283, 0.4052], requires_grad=True)]"
            ]
          },
          "metadata": {},
          "execution_count": 36
        }
      ]
    },
    {
      "cell_type": "markdown",
      "source": [
        "We can use the model to generate predictions in the same way as before."
      ],
      "metadata": {
        "id": "D3ekPHE9oh59"
      }
    },
    {
      "cell_type": "code",
      "source": [
        "# Generate predictions\n",
        "preds = model(inputs)\n",
        "preds"
      ],
      "metadata": {
        "id": "XnOVCwB6oiV0",
        "colab": {
          "base_uri": "https://localhost:8080/"
        },
        "outputId": "213ea21c-47b5-4b3f-f872-d536778a64df"
      },
      "execution_count": null,
      "outputs": [
        {
          "output_type": "execute_result",
          "data": {
            "text/plain": [
              "tensor([[-13.0326,  13.1326],\n",
              "        [-21.9643,  11.3974],\n",
              "        [-30.2760,  23.8765],\n",
              "        [  2.8240,  19.9047],\n",
              "        [-32.4467,   3.1570],\n",
              "        [-12.5413,  13.2106],\n",
              "        [-22.1965,  10.6085],\n",
              "        [-30.4469,  23.6132],\n",
              "        [  2.3327,  19.8266],\n",
              "        [-33.1702,   2.2901],\n",
              "        [-13.2648,  12.3436],\n",
              "        [-21.4730,  11.4754],\n",
              "        [-30.0438,  24.6654],\n",
              "        [  3.5475,  20.7716],\n",
              "        [-32.9380,   3.0790]], grad_fn=<AddmmBackward0>)"
            ]
          },
          "metadata": {},
          "execution_count": 37
        }
      ]
    },
    {
      "cell_type": "markdown",
      "source": [
        "## Loss Function\n",
        "\n",
        "Instead of defining a loss function manually, we can use the built-in loss function `mse_loss`."
      ],
      "metadata": {
        "id": "wrANZeBLolvy"
      }
    },
    {
      "cell_type": "code",
      "source": [
        "# Import nn.functional\n",
        "import torch.nn.functional as F"
      ],
      "metadata": {
        "id": "4N2lVO2-okis"
      },
      "execution_count": null,
      "outputs": []
    },
    {
      "cell_type": "markdown",
      "source": [
        "The `nn.functional` package contains many useful loss functions and several other utilities."
      ],
      "metadata": {
        "id": "_pCvbxu1onlf"
      }
    },
    {
      "cell_type": "code",
      "source": [
        "# Define loss function\n",
        "loss_fn = F.mse_loss"
      ],
      "metadata": {
        "id": "Yqwkld6ZoqNt"
      },
      "execution_count": null,
      "outputs": []
    },
    {
      "cell_type": "markdown",
      "source": [
        "Let's compute the loss for the current predictions of our model."
      ],
      "metadata": {
        "id": "eKYu2R72otS1"
      }
    },
    {
      "cell_type": "code",
      "source": [
        "loss = loss_fn(model(inputs), targets)\n",
        "print(loss)"
      ],
      "metadata": {
        "id": "Pl3IaoFqor_Q",
        "colab": {
          "base_uri": "https://localhost:8080/"
        },
        "outputId": "7f612e17-ece5-4763-ecdb-b7cbffde839e"
      },
      "execution_count": null,
      "outputs": [
        {
          "output_type": "stream",
          "name": "stdout",
          "text": [
            "tensor(9322.2119, grad_fn=<MseLossBackward0>)\n"
          ]
        }
      ]
    },
    {
      "cell_type": "markdown",
      "source": [
        "## Optimizer\n",
        "\n",
        "Instead of manually manipulating the model's weights & biases using gradients, we can use the optimizer `optim.SGD`. SGD is short for \"stochastic gradient descent\". The term _stochastic_ indicates that samples are selected in random batches instead of as a single group."
      ],
      "metadata": {
        "id": "QoYaQ0Lsow3x"
      }
    },
    {
      "cell_type": "code",
      "source": [
        "# Define optimizer\n",
        "opt = torch.optim.SGD(model.parameters(), lr=1e-5)"
      ],
      "metadata": {
        "id": "GdlboHFAoxVu"
      },
      "execution_count": null,
      "outputs": []
    },
    {
      "cell_type": "markdown",
      "source": [
        "Note that `model.parameters()` is passed as an argument to `optim.SGD` so that the optimizer knows which matrices should be modified during the update step. Also, we can specify a learning rate that controls the amount by which the parameters are modified."
      ],
      "metadata": {
        "id": "g-nL3AB3o3gv"
      }
    },
    {
      "cell_type": "markdown",
      "source": [
        "## Train the model\n",
        "\n",
        "We are now ready to train the model. We'll follow the same process to implement gradient descent:\n",
        "\n",
        "1. Generate predictions\n",
        "\n",
        "2. Calculate the loss\n",
        "\n",
        "3. Compute gradients w.r.t the weights and biases\n",
        "\n",
        "4. Adjust the weights by subtracting a small quantity proportional to the gradient\n",
        "\n",
        "5. Reset the gradients to zero\n",
        "\n",
        "The only change is that we'll work batches of data instead of processing the entire training data in every iteration. Let's define a utility function `fit` that trains the model for a given number of epochs."
      ],
      "metadata": {
        "id": "vZuE_CINo5rD"
      }
    },
    {
      "cell_type": "code",
      "source": [
        "# Utility function to train the model\n",
        "def fit(num_epochs, model, loss_fn, opt, train_dl):\n",
        "\n",
        "    # Repeat for given number of epochs\n",
        "    for epoch in range(num_epochs):\n",
        "\n",
        "        # Train with batches of data\n",
        "        for xb,yb in train_dl:\n",
        "\n",
        "            # 1. Generate predictions\n",
        "            pred = model(xb)\n",
        "\n",
        "            # 2. Calculate loss\n",
        "            loss = loss_fn(pred, yb)\n",
        "\n",
        "            # 3. Compute gradients\n",
        "            loss.backward()\n",
        "\n",
        "            # 4. Update parameters using gradients\n",
        "            opt.step()\n",
        "\n",
        "            # 5. Reset the gradients to zero\n",
        "            opt.zero_grad()\n",
        "\n",
        "        # Print the progress\n",
        "        if (epoch+1) % 10 == 0:\n",
        "            print('Epoch [{}/{}], Loss: {:.4f}'.format(epoch+1, num_epochs, loss.item()))"
      ],
      "metadata": {
        "id": "8uSZXAdJo39a"
      },
      "execution_count": null,
      "outputs": []
    },
    {
      "cell_type": "markdown",
      "source": [
        "Some things to note above:\n",
        "\n",
        "* We use the data loader defined earlier to get batches of data for every iteration.\n",
        "\n",
        "* Instead of updating parameters (weights and biases) manually, we use `opt.step` to perform the update and `opt.zero_grad` to reset the gradients to zero.\n",
        "\n",
        "* We've also added a log statement that prints the loss from the last batch of data for every 10th epoch to track training progress. `loss.item` returns the actual value stored in the loss tensor.\n",
        "\n",
        "Let's train the model for 100 epochs."
      ],
      "metadata": {
        "id": "RGiqC_aNjAo-"
      }
    },
    {
      "cell_type": "code",
      "source": [
        "fit(100, model, loss_fn, opt, train_dl)"
      ],
      "metadata": {
        "id": "oG9RObQni_cG",
        "colab": {
          "base_uri": "https://localhost:8080/"
        },
        "outputId": "0eb32ceb-38cf-4ba9-9af9-90de180faafd"
      },
      "execution_count": null,
      "outputs": [
        {
          "output_type": "stream",
          "name": "stdout",
          "text": [
            "Epoch [10/100], Loss: 63.6187\n",
            "Epoch [20/100], Loss: 794.2145\n",
            "Epoch [30/100], Loss: 27.6734\n",
            "Epoch [40/100], Loss: 231.6556\n",
            "Epoch [50/100], Loss: 246.2718\n",
            "Epoch [60/100], Loss: 240.7467\n",
            "Epoch [70/100], Loss: 174.0031\n",
            "Epoch [80/100], Loss: 152.2824\n",
            "Epoch [90/100], Loss: 85.1232\n",
            "Epoch [100/100], Loss: 87.8365\n"
          ]
        }
      ]
    },
    {
      "cell_type": "markdown",
      "source": [
        "Let's generate predictions using our model and verify that they're close to our targets."
      ],
      "metadata": {
        "id": "YYOssx-3jJJw"
      }
    },
    {
      "cell_type": "code",
      "source": [
        "# Generate predictions\n",
        "preds = model(inputs)\n",
        "preds"
      ],
      "metadata": {
        "id": "XzzsIIyejKtA",
        "colab": {
          "base_uri": "https://localhost:8080/"
        },
        "outputId": "ceff79fd-2697-4065-e54f-13c707fdf6d8"
      },
      "execution_count": null,
      "outputs": [
        {
          "output_type": "execute_result",
          "data": {
            "text/plain": [
              "tensor([[ 58.8288,  72.0619],\n",
              "        [ 78.8968,  94.8138],\n",
              "        [121.6227, 142.1721],\n",
              "        [ 31.4160,  47.1215],\n",
              "        [ 90.3550, 103.2257],\n",
              "        [ 57.7518,  71.0322],\n",
              "        [ 78.1041,  93.8210],\n",
              "        [121.6230, 142.2208],\n",
              "        [ 32.4931,  48.1512],\n",
              "        [ 90.6393, 103.2625],\n",
              "        [ 58.0361,  71.0690],\n",
              "        [ 77.8198,  93.7841],\n",
              "        [122.4155, 143.1650],\n",
              "        [ 31.1317,  47.0846],\n",
              "        [ 91.4320, 104.2554]], grad_fn=<AddmmBackward0>)"
            ]
          },
          "metadata": {},
          "execution_count": 44
        }
      ]
    },
    {
      "cell_type": "code",
      "source": [
        "# Compare with targets\n",
        "targets"
      ],
      "metadata": {
        "id": "H7LR-B4PjMwh",
        "colab": {
          "base_uri": "https://localhost:8080/"
        },
        "outputId": "862c24c2-2ca6-445c-babc-28f730e9f68c"
      },
      "execution_count": null,
      "outputs": [
        {
          "output_type": "execute_result",
          "data": {
            "text/plain": [
              "tensor([[ 56.,  70.],\n",
              "        [ 81., 101.],\n",
              "        [119., 133.],\n",
              "        [ 22.,  37.],\n",
              "        [103., 119.],\n",
              "        [ 57.,  69.],\n",
              "        [ 80., 102.],\n",
              "        [118., 132.],\n",
              "        [ 21.,  38.],\n",
              "        [104., 118.],\n",
              "        [ 57.,  69.],\n",
              "        [ 82., 100.],\n",
              "        [118., 134.],\n",
              "        [ 20.,  38.],\n",
              "        [102., 120.]])"
            ]
          },
          "metadata": {},
          "execution_count": 45
        }
      ]
    },
    {
      "cell_type": "markdown",
      "source": [
        "Indeed, the predictions are quite close to our targets. We have a trained a reasonably good model to predict crop yields for apples and oranges by looking at the average temperature, rainfall, and humidity in a region. We can use it to make predictions of crop yields for new regions by passing a batch containing a single row of input."
      ],
      "metadata": {
        "id": "VPJbd-61jQba"
      }
    },
    {
      "cell_type": "code",
      "source": [
        "model(torch.tensor([[75, 63, 44.]]))"
      ],
      "metadata": {
        "id": "TY187H6RjP-O",
        "colab": {
          "base_uri": "https://localhost:8080/"
        },
        "outputId": "b30c6760-696c-467b-fb64-ec13f48a7ae4"
      },
      "execution_count": null,
      "outputs": [
        {
          "output_type": "execute_result",
          "data": {
            "text/plain": [
              "tensor([[54.9470, 67.9740]], grad_fn=<AddmmBackward0>)"
            ]
          },
          "metadata": {},
          "execution_count": 46
        }
      ]
    },
    {
      "cell_type": "markdown",
      "source": [
        "Source: [Gradient Descent and Linear Regression with PyTorch](https://jovian.ai/aakashns/02-linear-regression). It a part of a wonderful series [Deep Learning with PyTorch: Zero to GANs](https://jovian.ai/learn/deep-learning-with-pytorch-zero-to-gans)."
      ],
      "metadata": {
        "id": "vFwF9pHIja9s"
      }
    }
  ]
}